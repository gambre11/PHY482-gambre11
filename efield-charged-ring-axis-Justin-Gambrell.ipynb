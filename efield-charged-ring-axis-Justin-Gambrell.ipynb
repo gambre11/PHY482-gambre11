{
 "cells": [
  {
   "cell_type": "markdown",
   "metadata": {},
   "source": [
    "# Computing Electric Field Along the Axis of a Charged Ring With a Computer"
   ]
  },
  {
   "cell_type": "markdown",
   "metadata": {},
   "source": [
    "This program computes the net electric field due to a uniformly charged ring of radius $R$ and charge $Q$ at a given point in space."
   ]
  },
  {
   "cell_type": "code",
   "execution_count": 1,
   "metadata": {
    "collapsed": false
   },
   "outputs": [
    {
     "data": {
      "application/javascript": [
       "require.undef(\"nbextensions/vpython_libraries/glow.min\");"
      ],
      "text/plain": [
       "<IPython.core.display.Javascript object>"
      ]
     },
     "metadata": {},
     "output_type": "display_data"
    },
    {
     "data": {
      "application/javascript": [
       "require.undef(\"nbextensions/vpython_libraries/glowcomm\");"
      ],
      "text/plain": [
       "<IPython.core.display.Javascript object>"
      ]
     },
     "metadata": {},
     "output_type": "display_data"
    },
    {
     "data": {
      "application/javascript": [
       "require.undef(\"nbextensions/vpython_libraries/jquery-ui.custom.min\");"
      ],
      "text/plain": [
       "<IPython.core.display.Javascript object>"
      ]
     },
     "metadata": {},
     "output_type": "display_data"
    },
    {
     "data": {
      "application/javascript": [
       "require([\"nbextensions/vpython_libraries/glow.min\"], function(){console.log(\"GLOW LOADED\");})"
      ],
      "text/plain": [
       "<IPython.core.display.Javascript object>"
      ]
     },
     "metadata": {},
     "output_type": "display_data"
    },
    {
     "data": {
      "application/javascript": [
       "require([\"nbextensions/vpython_libraries/glowcomm\"], function(){console.log(\"GLOWCOMM LOADED\");})"
      ],
      "text/plain": [
       "<IPython.core.display.Javascript object>"
      ]
     },
     "metadata": {},
     "output_type": "display_data"
    },
    {
     "data": {
      "application/javascript": [
       "require([\"nbextensions/vpython_libraries/jquery-ui.custom.min\"], function(){console.log(\"JQUERY LOADED\");})"
      ],
      "text/plain": [
       "<IPython.core.display.Javascript object>"
      ]
     },
     "metadata": {},
     "output_type": "display_data"
    },
    {
     "data": {
      "text/html": [
       "<div id=\"glowscript\" class=\"glowscript\"></div>"
      ],
      "text/plain": [
       "<IPython.core.display.HTML object>"
      ]
     },
     "metadata": {},
     "output_type": "display_data"
    },
    {
     "data": {
      "application/javascript": [
       "window.__context = { glowscript_container: $(\"#glowscript\").removeAttr(\"id\")}"
      ],
      "text/plain": [
       "<IPython.core.display.Javascript object>"
      ]
     },
     "metadata": {},
     "output_type": "display_data"
    }
   ],
   "source": [
    "from __future__ import division, print_function\n",
    "from vpython import *\n",
    "from math import *"
   ]
  },
  {
   "cell_type": "code",
   "execution_count": 8,
   "metadata": {
    "collapsed": false
   },
   "outputs": [
    {
     "data": {
      "text/html": [
       "<div id=\"glowscript\" class=\"glowscript\"></div>"
      ],
      "text/plain": [
       "<IPython.core.display.HTML object>"
      ]
     },
     "metadata": {},
     "output_type": "display_data"
    },
    {
     "data": {
      "application/javascript": [
       "window.__context = { glowscript_container: $(\"#glowscript\").removeAttr(\"id\")}"
      ],
      "text/plain": [
       "<IPython.core.display.Javascript object>"
      ]
     },
     "metadata": {},
     "output_type": "display_data"
    },
    {
     "name": "stdout",
     "output_type": "stream",
     "text": [
      "The net electric field =  <10000.000000, -0.000000, 0.000000> N/C\n"
     ]
    }
   ],
   "source": [
    "scene=canvas(title=\"Electric field due to uniformly charged ring\")\n",
    "scene.background=color.white\n",
    "\n",
    "R=0.02 #radius of ring in m\n",
    "Q=1e-9 #charge of ring in C\n",
    "N=1#number of unique pieces\n",
    "\n",
    "#draw the objects\n",
    "myring=ring(pos=vector(0,0,0), radius=R, axis=vector(0,0,1), color=color.blue, thickness=0.02*R)\n",
    "zaxis=cylinder(pos=-2*R*myring.axis, radius=0.015*R, axis=4*R*myring.axis, color=color.black)\n",
    "point=sphere(pos=R*myring.axis, color=color.red, radius=5*zaxis.radius)\n",
    "\n",
    "oofpez=9e9 #1/(4pi epsilon_0) in N m^2/C^2\n",
    "dq=Q/N #charge of a piece\n",
    "dtheta=2*pi/N #theta increment for our loop\n",
    "theta=dtheta/2 #initial theta for first piece of loop\n",
    "Enet=vector(0,0,0) #net electric field of all pieces\n",
    "pos=R*vector(.5,0,0)\n",
    "#rpoint=point.pos #location of the point in space to calculate E field\n",
    "rpoint=pos\n",
    "scale=1.2*mag(rpoint)/8000 #used to scale the arrows representing E-field\n",
    "\n",
    "while theta<2*pi:\n",
    "    rpiece=R*vector(cos(theta),sin(theta),0) #location of piece\n",
    "    r=rpoint-rpiece #vector from piece to point in space\n",
    "    rmag=mag(r) #magnitude of r\n",
    "    rhat=norm(r) #unit vector for r\n",
    "    dE=oofpez*dq/rmag/rmag*rhat #Electric field due to piece at rpoint\n",
    "    Enet=Enet+dE #net electric field of the first one up to this one\n",
    "    particle=sphere(pos=rpiece, radius=point.radius, color=color.yellow) #draw a particle at center of piece\n",
    "    dEvector=arrow(pos=rpoint, axis=scale*dE, color=color.magenta, shaftwidth=point.radius/2)\n",
    "    theta=theta+dtheta\n",
    "\n",
    "print(\"The net electric field = \",Enet, \"N/C\")\n",
    "Evector=arrow(pos=rpoint, axis=scale*Enet, color=color.orange, shaftwidth=point.radius/2)\n"
   ]
  },
  {
   "cell_type": "code",
   "execution_count": 9,
   "metadata": {
    "collapsed": false
   },
   "outputs": [
    {
     "data": {
      "text/html": [
       "<div id=\"glowscript\" class=\"glowscript\"></div>"
      ],
      "text/plain": [
       "<IPython.core.display.HTML object>"
      ]
     },
     "metadata": {},
     "output_type": "display_data"
    },
    {
     "data": {
      "application/javascript": [
       "window.__context = { glowscript_container: $(\"#glowscript\").removeAttr(\"id\")}"
      ],
      "text/plain": [
       "<IPython.core.display.Javascript object>"
      ]
     },
     "metadata": {},
     "output_type": "display_data"
    },
    {
     "name": "stdout",
     "output_type": "stream",
     "text": [
      "The net electric field =  <9597.346286, 1599.557714, 0.000000> N/C\n"
     ]
    }
   ],
   "source": [
    "scene=canvas(title=\"Electric field due to uniformly charged ring\")\n",
    "scene.background=color.white\n",
    "\n",
    "R=0.02 #radius of ring in m\n",
    "Q=1e-9 #charge of ring in C\n",
    "N=1#number of unique pieces\n",
    "\n",
    "#draw the objects\n",
    "myring=ring(pos=vector(0,0,0), radius=R, axis=vector(0,0,1), color=color.blue, thickness=0.02*R)\n",
    "zaxis=cylinder(pos=-2*R*myring.axis, radius=0.015*R, axis=4*R*myring.axis, color=color.black)\n",
    "point=sphere(pos=R*myring.axis, color=color.red, radius=5*zaxis.radius)\n",
    "\n",
    "oofpez=9e9 #1/(4pi epsilon_0) in N m^2/C^2\n",
    "dq=Q/N #charge of a piece\n",
    "dtheta=2*pi/N #theta increment for our loop\n",
    "theta=dtheta/2 #initial theta for first piece of loop\n",
    "Enet=vector(0,0,0) #net electric field of all pieces\n",
    "pos=R*vector(.5,.25,0)\n",
    "#rpoint=point.pos #location of the point in space to calculate E field\n",
    "rpoint=pos\n",
    "scale=1.2*mag(rpoint)/8000 #used to scale the arrows representing E-field\n",
    "\n",
    "while theta<2*pi:\n",
    "    rpiece=R*vector(cos(theta),sin(theta),0) #location of piece\n",
    "    r=rpoint-rpiece #vector from piece to point in space\n",
    "    rmag=mag(r) #magnitude of r\n",
    "    rhat=norm(r) #unit vector for r\n",
    "    dE=oofpez*dq/rmag/rmag*rhat #Electric field due to piece at rpoint\n",
    "    Enet=Enet+dE #net electric field of the first one up to this one\n",
    "    particle=sphere(pos=rpiece, radius=point.radius, color=color.yellow) #draw a particle at center of piece\n",
    "    dEvector=arrow(pos=rpoint, axis=scale*dE, color=color.magenta, shaftwidth=point.radius/2)\n",
    "    theta=theta+dtheta\n",
    "\n",
    "print(\"The net electric field = \",Enet, \"N/C\")\n",
    "Evector=arrow(pos=rpoint, axis=scale*Enet, color=color.orange, shaftwidth=point.radius/2)"
   ]
  },
  {
   "cell_type": "code",
   "execution_count": 10,
   "metadata": {
    "collapsed": false
   },
   "outputs": [
    {
     "data": {
      "text/html": [
       "<div id=\"glowscript\" class=\"glowscript\"></div>"
      ],
      "text/plain": [
       "<IPython.core.display.HTML object>"
      ]
     },
     "metadata": {},
     "output_type": "display_data"
    },
    {
     "data": {
      "application/javascript": [
       "window.__context = { glowscript_container: $(\"#glowscript\").removeAttr(\"id\")}"
      ],
      "text/plain": [
       "<IPython.core.display.Javascript object>"
      ]
     },
     "metadata": {},
     "output_type": "display_data"
    },
    {
     "name": "stdout",
     "output_type": "stream",
     "text": [
      "The net electric field =  <31819.805153, -31819.805153, 0.000000> N/C\n"
     ]
    }
   ],
   "source": [
    "scene=canvas(title=\"Electric field due to uniformly charged ring\")\n",
    "scene.background=color.white\n",
    "\n",
    "R=0.02 #radius of ring in m\n",
    "Q=1e-9 #charge of ring in C\n",
    "N=1#number of unique pieces\n",
    "\n",
    "#draw the objects\n",
    "myring=ring(pos=vector(0,0,0), radius=R, axis=vector(0,0,1), color=color.blue, thickness=0.02*R)\n",
    "zaxis=cylinder(pos=-2*R*myring.axis, radius=0.015*R, axis=4*R*myring.axis, color=color.black)\n",
    "point=sphere(pos=R*myring.axis, color=color.red, radius=5*zaxis.radius)\n",
    "\n",
    "oofpez=9e9 #1/(4pi epsilon_0) in N m^2/C^2\n",
    "dq=Q/N #charge of a piece\n",
    "dtheta=2*pi/N #theta increment for our loop\n",
    "theta=dtheta/2 #initial theta for first piece of loop\n",
    "Enet=vector(0,0,0) #net electric field of all pieces\n",
    "pos=R*vector(-.5,-.5,0)\n",
    "#rpoint=point.pos #location of the point in space to calculate E field\n",
    "rpoint=pos\n",
    "scale=1.2*mag(rpoint)/8000 #used to scale the arrows representing E-field\n",
    "\n",
    "while theta<2*pi:\n",
    "    rpiece=R*vector(cos(theta),sin(theta),0) #location of piece\n",
    "    r=rpoint-rpiece #vector from piece to point in space\n",
    "    rmag=mag(r) #magnitude of r\n",
    "    rhat=norm(r) #unit vector for r\n",
    "    dE=oofpez*dq/rmag/rmag*rhat #Electric field due to piece at rpoint\n",
    "    Enet=Enet+dE #net electric field of the first one up to this one\n",
    "    particle=sphere(pos=rpiece, radius=point.radius, color=color.yellow) #draw a particle at center of piece\n",
    "    dEvector=arrow(pos=rpoint, axis=scale*dE, color=color.magenta, shaftwidth=point.radius/2)\n",
    "    theta=theta+dtheta\n",
    "\n",
    "print(\"The net electric field = \",Enet, \"N/C\")\n",
    "Evector=arrow(pos=rpoint, axis=scale*Enet, color=color.orange, shaftwidth=point.radius/2)"
   ]
  },
  {
   "cell_type": "code",
   "execution_count": 11,
   "metadata": {
    "collapsed": false
   },
   "outputs": [
    {
     "data": {
      "text/html": [
       "<div id=\"glowscript\" class=\"glowscript\"></div>"
      ],
      "text/plain": [
       "<IPython.core.display.HTML object>"
      ]
     },
     "metadata": {},
     "output_type": "display_data"
    },
    {
     "data": {
      "application/javascript": [
       "window.__context = { glowscript_container: $(\"#glowscript\").removeAttr(\"id\")}"
      ],
      "text/plain": [
       "<IPython.core.display.Javascript object>"
      ]
     },
     "metadata": {},
     "output_type": "display_data"
    },
    {
     "name": "stdout",
     "output_type": "stream",
     "text": [
      "The net electric field =  <-7576.908652, -0.000000, 0.000000> N/C\n"
     ]
    }
   ],
   "source": [
    "scene=canvas(title=\"Electric field due to uniformly charged ring\")\n",
    "scene.background=color.white\n",
    "\n",
    "R=0.02 #radius of ring in m\n",
    "Q=1e-9 #charge of ring in C\n",
    "N=10#number of unique pieces\n",
    "\n",
    "#draw the objects\n",
    "myring=ring(pos=vector(0,0,0), radius=R, axis=vector(0,0,1), color=color.blue, thickness=0.02*R)\n",
    "zaxis=cylinder(pos=-2*R*myring.axis, radius=0.015*R, axis=4*R*myring.axis, color=color.black)\n",
    "point=sphere(pos=R*myring.axis, color=color.red, radius=5*zaxis.radius)\n",
    "\n",
    "oofpez=9e9 #1/(4pi epsilon_0) in N m^2/C^2\n",
    "dq=Q/N #charge of a piece\n",
    "dtheta=2*pi/N #theta increment for our loop\n",
    "theta=dtheta/2 #initial theta for first piece of loop\n",
    "Enet=vector(0,0,0) #net electric field of all pieces\n",
    "pos=R*vector(.5,0,0)\n",
    "#rpoint=point.pos #location of the point in space to calculate E field\n",
    "rpoint=pos\n",
    "scale=1.2*mag(rpoint)/8000 #used to scale the arrows representing E-field\n",
    "\n",
    "while theta<2*pi:\n",
    "    rpiece=R*vector(cos(theta),sin(theta),0) #location of piece\n",
    "    r=rpoint-rpiece #vector from piece to point in space\n",
    "    rmag=mag(r) #magnitude of r\n",
    "    rhat=norm(r) #unit vector for r\n",
    "    dE=oofpez*dq/rmag/rmag*rhat #Electric field due to piece at rpoint\n",
    "    Enet=Enet+dE #net electric field of the first one up to this one\n",
    "    particle=sphere(pos=rpiece, radius=point.radius, color=color.yellow) #draw a particle at center of piece\n",
    "    dEvector=arrow(pos=rpoint, axis=scale*dE, color=color.magenta, shaftwidth=point.radius/2)\n",
    "    theta=theta+dtheta\n",
    "\n",
    "print(\"The net electric field = \",Enet, \"N/C\")\n",
    "Evector=arrow(pos=rpoint, axis=scale*Enet, color=color.orange, shaftwidth=point.radius/2)"
   ]
  },
  {
   "cell_type": "code",
   "execution_count": 12,
   "metadata": {
    "collapsed": false
   },
   "outputs": [
    {
     "data": {
      "text/html": [
       "<div id=\"glowscript\" class=\"glowscript\"></div>"
      ],
      "text/plain": [
       "<IPython.core.display.HTML object>"
      ]
     },
     "metadata": {},
     "output_type": "display_data"
    },
    {
     "data": {
      "application/javascript": [
       "window.__context = { glowscript_container: $(\"#glowscript\").removeAttr(\"id\")}"
      ],
      "text/plain": [
       "<IPython.core.display.Javascript object>"
      ]
     },
     "metadata": {},
     "output_type": "display_data"
    },
    {
     "name": "stdout",
     "output_type": "stream",
     "text": [
      "The net electric field =  <-8805.429246, -3839.664872, 0.000000> N/C\n"
     ]
    }
   ],
   "source": [
    "scene=canvas(title=\"Electric field due to uniformly charged ring\")\n",
    "scene.background=color.white\n",
    "\n",
    "R=0.02 #radius of ring in m\n",
    "Q=1e-9 #charge of ring in C\n",
    "N=10#number of unique pieces\n",
    "\n",
    "#draw the objects\n",
    "myring=ring(pos=vector(0,0,0), radius=R, axis=vector(0,0,1), color=color.blue, thickness=0.02*R)\n",
    "zaxis=cylinder(pos=-2*R*myring.axis, radius=0.015*R, axis=4*R*myring.axis, color=color.black)\n",
    "point=sphere(pos=R*myring.axis, color=color.red, radius=5*zaxis.radius)\n",
    "\n",
    "oofpez=9e9 #1/(4pi epsilon_0) in N m^2/C^2\n",
    "dq=Q/N #charge of a piece\n",
    "dtheta=2*pi/N #theta increment for our loop\n",
    "theta=dtheta/2 #initial theta for first piece of loop\n",
    "Enet=vector(0,0,0) #net electric field of all pieces\n",
    "pos=R*vector(.5,.25,0)\n",
    "#rpoint=point.pos #location of the point in space to calculate E field\n",
    "rpoint=pos\n",
    "scale=1.2*mag(rpoint)/8000 #used to scale the arrows representing E-field\n",
    "\n",
    "while theta<2*pi:\n",
    "    rpiece=R*vector(cos(theta),sin(theta),0) #location of piece\n",
    "    r=rpoint-rpiece #vector from piece to point in space\n",
    "    rmag=mag(r) #magnitude of r\n",
    "    rhat=norm(r) #unit vector for r\n",
    "    dE=oofpez*dq/rmag/rmag*rhat #Electric field due to piece at rpoint\n",
    "    Enet=Enet+dE #net electric field of the first one up to this one\n",
    "    particle=sphere(pos=rpiece, radius=point.radius, color=color.yellow) #draw a particle at center of piece\n",
    "    dEvector=arrow(pos=rpoint, axis=scale*dE, color=color.magenta, shaftwidth=point.radius/2)\n",
    "    theta=theta+dtheta\n",
    "\n",
    "print(\"The net electric field = \",Enet, \"N/C\")\n",
    "Evector=arrow(pos=rpoint, axis=scale*Enet, color=color.orange, shaftwidth=point.radius/2)"
   ]
  },
  {
   "cell_type": "code",
   "execution_count": 14,
   "metadata": {
    "collapsed": false
   },
   "outputs": [
    {
     "data": {
      "text/html": [
       "<div id=\"glowscript\" class=\"glowscript\"></div>"
      ],
      "text/plain": [
       "<IPython.core.display.HTML object>"
      ]
     },
     "metadata": {},
     "output_type": "display_data"
    },
    {
     "data": {
      "application/javascript": [
       "window.__context = { glowscript_container: $(\"#glowscript\").removeAttr(\"id\")}"
      ],
      "text/plain": [
       "<IPython.core.display.Javascript object>"
      ]
     },
     "metadata": {},
     "output_type": "display_data"
    },
    {
     "name": "stdout",
     "output_type": "stream",
     "text": [
      "The net electric field =  <8549.210900, 15399.238063, 0.000000> N/C\n"
     ]
    }
   ],
   "source": [
    "scene=canvas(title=\"Electric field due to uniformly charged ring\")\n",
    "scene.background=color.white\n",
    "\n",
    "R=0.02 #radius of ring in m\n",
    "Q=1e-9 #charge of ring in C\n",
    "N=10#number of unique pieces\n",
    "\n",
    "#draw the objects\n",
    "myring=ring(pos=vector(0,0,0), radius=R, axis=vector(0,0,1), color=color.blue, thickness=0.02*R)\n",
    "zaxis=cylinder(pos=-2*R*myring.axis, radius=0.015*R, axis=4*R*myring.axis, color=color.black)\n",
    "point=sphere(pos=R*myring.axis, color=color.red, radius=5*zaxis.radius)\n",
    "\n",
    "oofpez=9e9 #1/(4pi epsilon_0) in N m^2/C^2\n",
    "dq=Q/N #charge of a piece\n",
    "dtheta=2*pi/N #theta increment for our loop\n",
    "theta=dtheta/2 #initial theta for first piece of loop\n",
    "Enet=vector(0,0,0) #net electric field of all pieces\n",
    "pos=R*vector(-.5,-.5,0)\n",
    "#rpoint=point.pos #location of the point in space to calculate E field\n",
    "rpoint=pos\n",
    "scale=1.2*mag(rpoint)/8000 #used to scale the arrows representing E-field\n",
    "\n",
    "while theta<2*pi:\n",
    "    rpiece=R*vector(cos(theta),sin(theta),0) #location of piece\n",
    "    r=rpoint-rpiece #vector from piece to point in space\n",
    "    rmag=mag(r) #magnitude of r\n",
    "    rhat=norm(r) #unit vector for r\n",
    "    dE=oofpez*dq/rmag/rmag*rhat #Electric field due to piece at rpoint\n",
    "    Enet=Enet+dE #net electric field of the first one up to this one\n",
    "    particle=sphere(pos=rpiece, radius=point.radius, color=color.yellow) #draw a particle at center of piece\n",
    "    dEvector=arrow(pos=rpoint, axis=scale*dE, color=color.magenta, shaftwidth=point.radius/2)\n",
    "    theta=theta+dtheta\n",
    "\n",
    "print(\"The net electric field = \",Enet, \"N/C\")\n",
    "Evector=arrow(pos=rpoint, axis=scale*Enet, color=color.orange, shaftwidth=point.radius/2)"
   ]
  },
  {
   "cell_type": "code",
   "execution_count": null,
   "metadata": {
    "collapsed": true
   },
   "outputs": [],
   "source": []
  }
 ],
 "metadata": {
  "kernelspec": {
   "display_name": "Python 3",
   "language": "python",
   "name": "python3"
  },
  "language_info": {
   "codemirror_mode": {
    "name": "ipython",
    "version": 3
   },
   "file_extension": ".py",
   "mimetype": "text/x-python",
   "name": "python",
   "nbconvert_exporter": "python",
   "pygments_lexer": "ipython3",
   "version": "3.6.0"
  }
 },
 "nbformat": 4,
 "nbformat_minor": 0
}
